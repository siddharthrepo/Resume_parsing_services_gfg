{
 "cells": [
  {
   "cell_type": "code",
   "execution_count": 2,
   "metadata": {},
   "outputs": [
    {
     "data": {
      "text/plain": [
       "(2484, 3)"
      ]
     },
     "execution_count": 2,
     "metadata": {},
     "output_type": "execute_result"
    }
   ],
   "source": [
    "import pandas as pd\n",
    "\n",
    "clean_df = pd.read_csv('resume_pr/clean_resume_data.csv')\n",
    "clean_df.shape"
   ]
  },
  {
   "cell_type": "code",
   "execution_count": 3,
   "metadata": {},
   "outputs": [
    {
     "data": {
      "text/html": [
       "<div>\n",
       "<style scoped>\n",
       "    .dataframe tbody tr th:only-of-type {\n",
       "        vertical-align: middle;\n",
       "    }\n",
       "\n",
       "    .dataframe tbody tr th {\n",
       "        vertical-align: top;\n",
       "    }\n",
       "\n",
       "    .dataframe thead th {\n",
       "        text-align: right;\n",
       "    }\n",
       "</style>\n",
       "<table border=\"1\" class=\"dataframe\">\n",
       "  <thead>\n",
       "    <tr style=\"text-align: right;\">\n",
       "      <th></th>\n",
       "      <th>ID</th>\n",
       "      <th>Category</th>\n",
       "      <th>Feature</th>\n",
       "    </tr>\n",
       "  </thead>\n",
       "  <tbody>\n",
       "    <tr>\n",
       "      <th>0</th>\n",
       "      <td>16852973</td>\n",
       "      <td>HR</td>\n",
       "      <td>hr administrator marketing associate hr admini...</td>\n",
       "    </tr>\n",
       "    <tr>\n",
       "      <th>1</th>\n",
       "      <td>22323967</td>\n",
       "      <td>HR</td>\n",
       "      <td>hr specialist hr operations summary media prof...</td>\n",
       "    </tr>\n",
       "    <tr>\n",
       "      <th>2</th>\n",
       "      <td>33176873</td>\n",
       "      <td>HR</td>\n",
       "      <td>hr director summary years experience recruitin...</td>\n",
       "    </tr>\n",
       "    <tr>\n",
       "      <th>3</th>\n",
       "      <td>27018550</td>\n",
       "      <td>HR</td>\n",
       "      <td>hr specialist summary dedicated driven dynamic...</td>\n",
       "    </tr>\n",
       "    <tr>\n",
       "      <th>4</th>\n",
       "      <td>17812897</td>\n",
       "      <td>HR</td>\n",
       "      <td>hr manager skill highlights hr skills hr depar...</td>\n",
       "    </tr>\n",
       "  </tbody>\n",
       "</table>\n",
       "</div>"
      ],
      "text/plain": [
       "         ID Category                                            Feature\n",
       "0  16852973       HR  hr administrator marketing associate hr admini...\n",
       "1  22323967       HR  hr specialist hr operations summary media prof...\n",
       "2  33176873       HR  hr director summary years experience recruitin...\n",
       "3  27018550       HR  hr specialist summary dedicated driven dynamic...\n",
       "4  17812897       HR  hr manager skill highlights hr skills hr depar..."
      ]
     },
     "execution_count": 3,
     "metadata": {},
     "output_type": "execute_result"
    }
   ],
   "source": [
    "clean_df.head()"
   ]
  },
  {
   "cell_type": "code",
   "execution_count": 4,
   "metadata": {},
   "outputs": [
    {
     "data": {
      "text/plain": [
       "Category\n",
       "INFORMATION-TECHNOLOGY    120\n",
       "BUSINESS-DEVELOPMENT      120\n",
       "ADVOCATE                  118\n",
       "CHEF                      118\n",
       "ENGINEERING               118\n",
       "ACCOUNTANT                118\n",
       "FINANCE                   118\n",
       "FITNESS                   117\n",
       "AVIATION                  117\n",
       "SALES                     116\n",
       "BANKING                   115\n",
       "HEALTHCARE                115\n",
       "CONSULTANT                115\n",
       "CONSTRUCTION              112\n",
       "PUBLIC-RELATIONS          111\n",
       "HR                        110\n",
       "DESIGNER                  107\n",
       "ARTS                      103\n",
       "TEACHER                   102\n",
       "APPAREL                    97\n",
       "DIGITAL-MEDIA              96\n",
       "AGRICULTURE                63\n",
       "AUTOMOBILE                 36\n",
       "BPO                        22\n",
       "Name: count, dtype: int64"
      ]
     },
     "execution_count": 4,
     "metadata": {},
     "output_type": "execute_result"
    }
   ],
   "source": [
    "clean_df['Category'].value_counts()"
   ]
  },
  {
   "cell_type": "markdown",
   "metadata": {},
   "source": [
    "# Balance Dataset"
   ]
  },
  {
   "cell_type": "code",
   "execution_count": 5,
   "metadata": {},
   "outputs": [
    {
     "data": {
      "text/plain": [
       "(2880, 3)"
      ]
     },
     "execution_count": 5,
     "metadata": {},
     "output_type": "execute_result"
    }
   ],
   "source": [
    "from sklearn.utils import resample\n",
    "\n",
    "max_count = clean_df['Category'].value_counts().max()\n",
    "\n",
    "balanced_data = []\n",
    "\n",
    "for category in clean_df['Category'].unique():\n",
    "    category_data = clean_df[clean_df['Category'] == category]\n",
    "\n",
    "    if len(category_data) < max_count:\n",
    "        balanced_category_data = resample(category_data , replace=True , n_samples=max_count , random_state=42)\n",
    "    else:\n",
    "        balanced_category_data = resample(category_data , replace=False , n_samples=max_count , random_state=42)\n",
    "    \n",
    "    balanced_data.append(balanced_category_data)\n",
    "\n",
    "\n",
    "balanced_df = pd.concat(balanced_data)\n",
    "balanced_df.shape\n",
    "\n",
    "\n"
   ]
  },
  {
   "cell_type": "code",
   "execution_count": 6,
   "metadata": {},
   "outputs": [
    {
     "data": {
      "text/plain": [
       "Category\n",
       "HR                        120\n",
       "DESIGNER                  120\n",
       "INFORMATION-TECHNOLOGY    120\n",
       "TEACHER                   120\n",
       "ADVOCATE                  120\n",
       "BUSINESS-DEVELOPMENT      120\n",
       "HEALTHCARE                120\n",
       "FITNESS                   120\n",
       "AGRICULTURE               120\n",
       "BPO                       120\n",
       "SALES                     120\n",
       "CONSULTANT                120\n",
       "DIGITAL-MEDIA             120\n",
       "AUTOMOBILE                120\n",
       "CHEF                      120\n",
       "FINANCE                   120\n",
       "APPAREL                   120\n",
       "ENGINEERING               120\n",
       "ACCOUNTANT                120\n",
       "CONSTRUCTION              120\n",
       "PUBLIC-RELATIONS          120\n",
       "BANKING                   120\n",
       "ARTS                      120\n",
       "AVIATION                  120\n",
       "Name: count, dtype: int64"
      ]
     },
     "execution_count": 6,
     "metadata": {},
     "output_type": "execute_result"
    }
   ],
   "source": [
    "balanced_df['Category'].value_counts()"
   ]
  },
  {
   "cell_type": "code",
   "execution_count": 7,
   "metadata": {},
   "outputs": [
    {
     "data": {
      "text/plain": [
       "ID          0\n",
       "Category    0\n",
       "Feature     1\n",
       "dtype: int64"
      ]
     },
     "execution_count": 7,
     "metadata": {},
     "output_type": "execute_result"
    }
   ],
   "source": [
    "balanced_df.isnull().sum()"
   ]
  },
  {
   "cell_type": "code",
   "execution_count": 8,
   "metadata": {},
   "outputs": [
    {
     "data": {
      "text/html": [
       "<div>\n",
       "<style scoped>\n",
       "    .dataframe tbody tr th:only-of-type {\n",
       "        vertical-align: middle;\n",
       "    }\n",
       "\n",
       "    .dataframe tbody tr th {\n",
       "        vertical-align: top;\n",
       "    }\n",
       "\n",
       "    .dataframe thead th {\n",
       "        text-align: right;\n",
       "    }\n",
       "</style>\n",
       "<table border=\"1\" class=\"dataframe\">\n",
       "  <thead>\n",
       "    <tr style=\"text-align: right;\">\n",
       "      <th></th>\n",
       "      <th>ID</th>\n",
       "      <th>Category</th>\n",
       "      <th>Feature</th>\n",
       "    </tr>\n",
       "  </thead>\n",
       "  <tbody>\n",
       "    <tr>\n",
       "      <th>656</th>\n",
       "      <td>12632728</td>\n",
       "      <td>BUSINESS-DEVELOPMENT</td>\n",
       "      <td>NaN</td>\n",
       "    </tr>\n",
       "  </tbody>\n",
       "</table>\n",
       "</div>"
      ],
      "text/plain": [
       "           ID              Category Feature\n",
       "656  12632728  BUSINESS-DEVELOPMENT     NaN"
      ]
     },
     "execution_count": 8,
     "metadata": {},
     "output_type": "execute_result"
    }
   ],
   "source": [
    "balanced_df[balanced_df['Feature'].isnull()]"
   ]
  },
  {
   "cell_type": "code",
   "execution_count": 9,
   "metadata": {},
   "outputs": [],
   "source": [
    "balanced_df.dropna(inplace=True)"
   ]
  },
  {
   "cell_type": "markdown",
   "metadata": {},
   "source": [
    "# Train test split"
   ]
  },
  {
   "cell_type": "code",
   "execution_count": 10,
   "metadata": {},
   "outputs": [],
   "source": [
    "from sklearn.model_selection import train_test_split\n",
    "X = balanced_df['Feature']\n",
    "y = balanced_df['Category']\n",
    "X_train , X_test , y_train , y_test = train_test_split(X , y , test_size = 0.2 , random_state = 42)"
   ]
  },
  {
   "cell_type": "code",
   "execution_count": 11,
   "metadata": {},
   "outputs": [
    {
     "data": {
      "text/plain": [
       "np.int64(2303)"
      ]
     },
     "execution_count": 11,
     "metadata": {},
     "output_type": "execute_result"
    }
   ],
   "source": [
    "X_train.count()"
   ]
  },
  {
   "cell_type": "markdown",
   "metadata": {},
   "source": [
    "# Encoding Text"
   ]
  },
  {
   "cell_type": "code",
   "execution_count": 12,
   "metadata": {},
   "outputs": [
    {
     "data": {
      "text/plain": [
       "<Compressed Sparse Row sparse matrix of dtype 'float64'\n",
       "\twith 179711 stored elements and shape (576, 29780)>"
      ]
     },
     "execution_count": 12,
     "metadata": {},
     "output_type": "execute_result"
    }
   ],
   "source": [
    "from sklearn.feature_extraction.text import TfidfVectorizer\n",
    "\n",
    "tfidf_vectorizer = TfidfVectorizer()\n",
    "X_train__tfidf = tfidf_vectorizer.fit_transform(X_train)\n",
    "X_test__tfidf = tfidf_vectorizer.transform(X_test)\n",
    "\n",
    "X_test__tfidf"
   ]
  },
  {
   "cell_type": "markdown",
   "metadata": {},
   "source": [
    "# Train Random Forest Classifier"
   ]
  },
  {
   "cell_type": "code",
   "execution_count": 13,
   "metadata": {},
   "outputs": [
    {
     "data": {
      "text/plain": [
       "(576, 29780)"
      ]
     },
     "execution_count": 13,
     "metadata": {},
     "output_type": "execute_result"
    }
   ],
   "source": [
    "X_test__tfidf.shape"
   ]
  },
  {
   "cell_type": "code",
   "execution_count": 14,
   "metadata": {},
   "outputs": [
    {
     "name": "stdout",
     "output_type": "stream",
     "text": [
      "Accuracy: 0.8541666666666666\n"
     ]
    }
   ],
   "source": [
    "from sklearn.metrics import classification_report , accuracy_score , confusion_matrix\n",
    "from sklearn.ensemble._forest import RandomForestClassifier\n",
    "\n",
    "rf_classifier = RandomForestClassifier()\n",
    "rf_classifier.fit(X_train__tfidf , y_train)\n",
    "\n",
    "y_pred = rf_classifier.predict(X_test__tfidf)\n",
    "accuracy = accuracy_score(y_test , y_pred)\n",
    "print(\"Accuracy:\" , accuracy)"
   ]
  },
  {
   "cell_type": "code",
   "execution_count": 15,
   "metadata": {},
   "outputs": [
    {
     "name": "stdout",
     "output_type": "stream",
     "text": [
      "                        precision    recall  f1-score   support\n",
      "\n",
      "            ACCOUNTANT       0.80      0.95      0.87        21\n",
      "              ADVOCATE       0.96      0.76      0.85        29\n",
      "           AGRICULTURE       1.00      0.78      0.88        23\n",
      "               APPAREL       0.82      0.86      0.84        21\n",
      "                  ARTS       0.93      0.59      0.72        22\n",
      "            AUTOMOBILE       1.00      1.00      1.00        19\n",
      "              AVIATION       0.94      1.00      0.97        30\n",
      "               BANKING       0.94      0.74      0.83        23\n",
      "                   BPO       1.00      1.00      1.00        15\n",
      "  BUSINESS-DEVELOPMENT       0.50      0.56      0.53        18\n",
      "                  CHEF       0.96      0.96      0.96        28\n",
      "          CONSTRUCTION       0.89      0.96      0.92        25\n",
      "            CONSULTANT       1.00      0.65      0.78        31\n",
      "              DESIGNER       0.93      0.96      0.95        28\n",
      "         DIGITAL-MEDIA       0.80      0.95      0.87        21\n",
      "           ENGINEERING       0.81      0.96      0.88        23\n",
      "               FINANCE       0.80      0.76      0.78        21\n",
      "               FITNESS       0.80      0.91      0.85        22\n",
      "            HEALTHCARE       0.74      0.79      0.77        29\n",
      "                    HR       0.70      1.00      0.82        21\n",
      "INFORMATION-TECHNOLOGY       0.79      0.83      0.81        23\n",
      "      PUBLIC-RELATIONS       0.82      0.78      0.80        23\n",
      "                 SALES       0.95      0.74      0.83        27\n",
      "               TEACHER       0.80      1.00      0.89        33\n",
      "\n",
      "              accuracy                           0.85       576\n",
      "             macro avg       0.86      0.85      0.85       576\n",
      "          weighted avg       0.87      0.85      0.85       576\n",
      "\n"
     ]
    }
   ],
   "source": [
    "print(classification_report(y_test , y_pred))"
   ]
  },
  {
   "cell_type": "code",
   "execution_count": 16,
   "metadata": {},
   "outputs": [],
   "source": [
    "confusion_matrix = confusion_matrix(y_test , y_pred)\n",
    "# print(confusion_matrix)"
   ]
  },
  {
   "cell_type": "code",
   "execution_count": 17,
   "metadata": {},
   "outputs": [
    {
     "name": "stderr",
     "output_type": "stream",
     "text": [
      "<>:3: SyntaxWarning: invalid escape sequence '\\S'\n",
      "<>:5: SyntaxWarning: invalid escape sequence '\\S'\n",
      "<>:6: SyntaxWarning: invalid escape sequence '\\S'\n",
      "<>:7: SyntaxWarning: invalid escape sequence '\\]'\n",
      "<>:9: SyntaxWarning: invalid escape sequence '\\s'\n",
      "<>:3: SyntaxWarning: invalid escape sequence '\\S'\n",
      "<>:5: SyntaxWarning: invalid escape sequence '\\S'\n",
      "<>:6: SyntaxWarning: invalid escape sequence '\\S'\n",
      "<>:7: SyntaxWarning: invalid escape sequence '\\]'\n",
      "<>:9: SyntaxWarning: invalid escape sequence '\\s'\n",
      "/tmp/ipykernel_6206/3739445999.py:3: SyntaxWarning: invalid escape sequence '\\S'\n",
      "  cleanText = re.sub('http\\S+\\s', ' ', txt)\n",
      "/tmp/ipykernel_6206/3739445999.py:5: SyntaxWarning: invalid escape sequence '\\S'\n",
      "  cleanText = re.sub('#\\S+\\s', ' ', cleanText)\n",
      "/tmp/ipykernel_6206/3739445999.py:6: SyntaxWarning: invalid escape sequence '\\S'\n",
      "  cleanText = re.sub('@\\S+', '  ', cleanText)\n",
      "/tmp/ipykernel_6206/3739445999.py:7: SyntaxWarning: invalid escape sequence '\\]'\n",
      "  cleanText = re.sub('[%s]' % re.escape(\"\"\"!\"#$%&'()*+,-./:;<=>?@[\\]^_`{|}~\"\"\"), ' ', cleanText)\n",
      "/tmp/ipykernel_6206/3739445999.py:9: SyntaxWarning: invalid escape sequence '\\s'\n",
      "  cleanText = re.sub('\\s+', ' ', cleanText)\n"
     ]
    }
   ],
   "source": [
    "import re\n",
    "def cleanResume(txt):\n",
    "    cleanText = re.sub('http\\S+\\s', ' ', txt)\n",
    "    cleanText = re.sub('RT|cc', ' ', cleanText)\n",
    "    cleanText = re.sub('#\\S+\\s', ' ', cleanText)\n",
    "    cleanText = re.sub('@\\S+', '  ', cleanText)  \n",
    "    cleanText = re.sub('[%s]' % re.escape(\"\"\"!\"#$%&'()*+,-./:;<=>?@[\\]^_`{|}~\"\"\"), ' ', cleanText)\n",
    "    cleanText = re.sub(r'[^\\x00-\\x7f]', ' ', cleanText) \n",
    "    cleanText = re.sub('\\s+', ' ', cleanText)\n",
    "    return cleanText"
   ]
  },
  {
   "cell_type": "code",
   "execution_count": 18,
   "metadata": {},
   "outputs": [],
   "source": [
    "def predict_category(resume_text):\n",
    "    # resume_text = cleanResume(resume_text)\n",
    "    resume_tfidf = tfidf_vectorizer.transform([resume_text])\n",
    "    predicted_category = rf_classifier.predict(resume_tfidf)[0]\n",
    "    return predicted_category"
   ]
  },
  {
   "cell_type": "code",
   "execution_count": 19,
   "metadata": {},
   "outputs": [
    {
     "name": "stdout",
     "output_type": "stream",
     "text": [
      "HR\n"
     ]
    }
   ],
   "source": [
    "text = \"Highly motivated and results-oriented Human Resources professional with [X] years of experience in employee relations, talent acquisition, HR policies, and organizational development. Seeking to leverage my expertise in [specific skills or focus areas] to contribute to [Company Name]'s growth and foster a positive and productive work environment.\"\n",
    "print(predict_category(text))"
   ]
  },
  {
   "cell_type": "code",
   "execution_count": 20,
   "metadata": {},
   "outputs": [
    {
     "name": "stdout",
     "output_type": "stream",
     "text": [
      "Predicted Category: BANKING\n"
     ]
    }
   ],
   "source": [
    "resume_file = \"\"\"Objective:\n",
    "Dedicated and results-oriented Banking professional with a strong background in financial analysis and customer service seeking opportunities to contribute to a reputable financial institution. Eager to leverage expertise in risk management, investment strategies, and relationship building to drive business growth and client satisfaction.\n",
    "\n",
    "Education:\n",
    "- Bachelor of Business Administration in Finance, XYZ University, GPA: 3.8/4.0\n",
    "- Certified Financial Analyst (CFA) Level I Candidate\n",
    "\n",
    "Skills:\n",
    "- Proficient in financial modeling and analysis using Excel, Bloomberg Terminal, and other financial software\n",
    "- Extensive knowledge of banking products and services, including loans, mortgages, and investment products\n",
    "- Strong understanding of regulatory compliance and risk management practices in the banking industry\n",
    "- Excellent communication and interpersonal skills, with a focus on building rapport with clients and colleagues\n",
    "- Ability to work efficiently under pressure and adapt to changing market conditions\n",
    "\n",
    "Experience:\n",
    "Financial Analyst | ABC Bank\n",
    "- Conducted financial analysis and risk assessment for corporate clients, including credit analysis, financial statement analysis, and cash flow modeling\n",
    "- Developed customized financial solutions to meet clients' needs and objectives, resulting in increased revenue and client retention\n",
    "- Collaborated with cross-functional teams to identify new business opportunities and optimize existing processes\n",
    "\n",
    "Customer Service Representative | DEF Bank\n",
    "- Provided exceptional customer service to bank clients, addressing inquiries, resolving issues, and promoting banking products and services\n",
    "- Processed transactions accurately and efficiently, including deposits, withdrawals, and account transfers\n",
    "- Educated customers on various banking products and services, helping them make informed financial decisions\n",
    "\n",
    "Internship | GHI Investments\n",
    "- Assisted portfolio managers with investment research and analysis, including industry and company-specific research, financial modeling, and performance analysis\n",
    "- Prepared investment presentations and reports for clients, highlighting investment opportunities and performance metrics\n",
    "- Conducted market research and analysis to identify trends and opportunities in the financial markets\n",
    "\n",
    "Certifications:\n",
    "- Certified Financial Planner (CFP)\n",
    "- Series 7 and Series 63 Securities Licenses\n",
    "\n",
    "Languages:\n",
    "- English (Native)\n",
    "- Spanish (Proficient)\n",
    "\n",
    "\"\"\"\n",
    "predicted_category = predict_category(resume_file)\n",
    "print(\"Predicted Category:\", predicted_category)"
   ]
  },
  {
   "cell_type": "code",
   "execution_count": 21,
   "metadata": {},
   "outputs": [
    {
     "name": "stdout",
     "output_type": "stream",
     "text": [
      "Predicted Category: INFORMATION-TECHNOLOGY\n"
     ]
    }
   ],
   "source": [
    "resume_file = \"\"\"\n",
    "                Kshitij Agarwal\n",
    "kshitijagarwal2808@gmail.com\n",
    "github.com/kshitijagar\n",
    "linkedin.com/in/kshitij-agar28\n",
    "Roll No.: PES1UG21CS292\n",
    "B.Tech (CSE) — PES University, Bangalore\n",
    "Education\n",
    "Degree/Certificate\n",
    "B.Tech (Computer Science)\n",
    "Senior Secondary\n",
    "Secondary\n",
    "Institute/Board\n",
    "PES University\n",
    "CBSE Board\n",
    "CBSE Board\n",
    "CGPA/Percentage\n",
    "8.86 (Current)\n",
    "94%\n",
    "95.2%\n",
    "Year\n",
    "2021-Present\n",
    "2021\n",
    "2019\n",
    "Skills\n",
    "Programming: Python, C, Java, JavaScript, React.js, Node.js, React Native, Solidity Tools: Docker, GitHub,\n",
    "Hadoop, Kaggle, Visual Studio Code Databases: MySQL, MongoDB, Firebase Operating Systems: Windows,\n",
    "Linux\n",
    "Key Courses\n",
    "Mathematics: Linear Algebra, Statistics in Data Science, Data Analytics\n",
    "Product Management: Software Engineering\n",
    "Computer Science: Data Structures and Algorithms, Operating Systems, Computer Networking, Automata and Formal\n",
    "Languages, Big Data, Information Security, Compiler Design, Blockchain\n",
    "Experience\n",
    "Summer Student - Ciena Corp\n",
    "Jun 2024 - Aug 2024\n",
    "• Collaborated with senior engineers to identify, troubleshoot, and resolve bugs in automation scripts for Packet Network\n",
    "QA.\n",
    "• Gained insights into networking protocols and operational mechanics of switches and routers.\n",
    "• Contributed to automating logical port stats test cases, reducing test execution time by 93% (from 70 minutes to 5\n",
    "minutes).\n",
    "Projects\n",
    "Blockchain Voting dApp\n",
    "Mar 2024 - Apr 2024\n",
    "• Developed a decentralized voting application using Solidity smart contracts and React.js frontend.\n",
    "• Implemented secure voting mechanisms and blockchain integration for transparent and tamper-proof elections.\n",
    "• Tech Stack: Solidity, React.js, Ethereum, Web3.js\n",
    "MediTrack\n",
    "Feb 2024 GitHub Link\n",
    "• Developed a mobile app using Figma, React Native, and Firebase to track local disease spread.\n",
    "• Integrated multiple APIs to provide real-time disease data.\n",
    "• Tech Stack: Figma, React Native, Firebase\n",
    "YKraft - Yet Another Kraft\n",
    "Oct 2023 - Nov 2023 GitHub Link\n",
    "• Developed an HTTP implementation of Kraft with essential functionalities.\n",
    "• Enhanced system with metadata and log storage for efficient recovery from server failures.\n",
    "• Tech Stack: Python, HTTP protocols\n",
    "Sports Department Management System\n",
    "Sept 2023 - Nov 2023 GitHub Link\n",
    "• Backend: Developed a Sports Department Management System for the university using MySQL and Django providing\n",
    "an intuitive interface.\n",
    "• Integrated frontend using HTML and CSS to develop a Sports Department Management System.\n",
    "• Tech Stack: MySQL, Django, HTML, CSS\n",
    "Student Elective Manager\n",
    "May 2023 - July 2023 Project Link\n",
    "• Played a key role in making the app framework and front-end for improved user-friendliness.\n",
    "• Contributed to the development of the project’s Firebase database and hosting the website on the web.\n",
    "• Tech Stack: React.js, Firebase\n",
    "SecureCipher: Data Encryption and Decryption Tool\n",
    "Jan 2022 - Feb 2022 GitHub Link\n",
    "• The project leverages a combination of Python libraries, advanced cryptographic techniques, and user interface (UI)\n",
    "tools to create an intuitive and user-friendly Python application.\n",
    "• Tech Stack: Python, Cryptography libraries, UI tools\n",
    "Positions of Responsibility\n",
    "Head of Events and Operations - IEEE CS Club, PES University\n",
    "• Organized a guest lecture attended by over 400 participants.\n",
    "• Led organization of a 24-hour hackathon with participants from vario\n",
    "                \"\"\"\n",
    "\n",
    "predicted_category = predict_category(resume_file)\n",
    "print(\"Predicted Category:\", predicted_category)"
   ]
  },
  {
   "cell_type": "code",
   "execution_count": 22,
   "metadata": {},
   "outputs": [],
   "source": [
    "import pickle\n",
    "pickle.dump(rf_classifier,open('models/rf_classifier_categorization.pkl','wb'))\n",
    "pickle.dump(tfidf_vectorizer,open('models/tfidf_vectorizer_categorization.pkl','wb'))"
   ]
  }
 ],
 "metadata": {
  "kernelspec": {
   "display_name": ".venv",
   "language": "python",
   "name": "python3"
  },
  "language_info": {
   "codemirror_mode": {
    "name": "ipython",
    "version": 3
   },
   "file_extension": ".py",
   "mimetype": "text/x-python",
   "name": "python",
   "nbconvert_exporter": "python",
   "pygments_lexer": "ipython3",
   "version": "3.12.3"
  }
 },
 "nbformat": 4,
 "nbformat_minor": 2
}
