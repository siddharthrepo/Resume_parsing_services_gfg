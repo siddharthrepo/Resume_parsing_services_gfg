{
 "cells": [
  {
   "cell_type": "code",
   "execution_count": 36,
   "metadata": {},
   "outputs": [],
   "source": [
    "from sklearn.feature_extraction.text import  TfidfVectorizer\n",
    "import docx2txt\n",
    "import PyPDF2\n",
    "from sklearn.feature_extraction.text import TfidfVectorizer\n",
    "from sklearn.metrics.pairwise import cosine_similarity\n"
   ]
  },
  {
   "cell_type": "code",
   "execution_count": 37,
   "metadata": {},
   "outputs": [],
   "source": [
    "def extract_text_from_pdf(file_path):\n",
    "    text = \"\"\n",
    "    with open(file_path, 'rb') as file:\n",
    "        reader = PyPDF2.PdfReader(file)\n",
    "        for page in reader.pages:\n",
    "            text += page.extract_text()\n",
    "    return text\n",
    "\n",
    "def extract_text_from_docx(file_path):\n",
    "    return docx2txt.process(file_path)\n",
    "\n",
    "def extract_text_from_txt(file_path):\n",
    "    with open(file_path, 'r', encoding='utf-8') as file:\n",
    "        return file.read()\n",
    "\n",
    "def extract_text(file_path):\n",
    "    if file_path.endswith('.pdf'):\n",
    "        return extract_text_from_pdf(file_path)\n",
    "    elif file_path.endswith('.docx'):\n",
    "        return extract_text_from_docx(file_path)\n",
    "    elif file_path.endswith('.txt'):\n",
    "        return extract_text_from_txt(file_path)\n",
    "    else:\n",
    "        return \"\""
   ]
  },
  {
   "cell_type": "code",
   "execution_count": 38,
   "metadata": {},
   "outputs": [],
   "source": [
    "resumes = extract_text_from_pdf(\"/home/siddharth/Desktop/resume_parser/resume_kshitij.pdf\")\n",
    "job_description = \"\"\"Job Title: Software Developer\n",
    "Location: [City, Country]\n",
    "Employment Type: Full-time\n",
    "Job Description:\n",
    "We are seeking a highly skilled and motivated Software Developer to join our dynamic team. The ideal candidate will have a solid foundation in computer science, demonstrated experience in software development, and a passion for innovative technologies. This role involves designing, developing, and maintaining software solutions, collaborating with cross-functional teams, and contributing to the success of our technology projects.\n",
    "\n",
    "Key Responsibilities:\n",
    "Design and Develop Software: Create high-quality, scalable, and efficient software applications using modern programming languages and frameworks.\n",
    "Collaborate: Work closely with product managers, designers, and other developers to understand project requirements and deliver solutions that meet business needs.\n",
    "Maintain and Optimize Systems: Ensure the performance, reliability, and security of applications by implementing best practices and addressing any issues that arise.\n",
    "Troubleshoot and Debug: Identify, analyze, and resolve bugs or technical issues to ensure smooth operation of software applications.\n",
    "Contribute to Projects: Actively participate in the design and implementation of new features, and contribute to ongoing improvements of existing systems.\n",
    "Stay Updated: Keep up with the latest industry trends and technologies to continually enhance your skills and apply new knowledge to projects.\n",
    "Requirements:\n",
    "Education: Bachelor’s degree in Computer Science, Engineering, or a related field.\n",
    "Programming Skills: Proficiency in Python, Java, C, and JavaScript.\n",
    "Frameworks & Technologies: Experience with React.js, Node.js, React Native, and Solidity.\n",
    "Tools: Familiarity with Docker, GitHub, and development tools like Visual Studio Code.\n",
    "Databases: Knowledge of MySQL, MongoDB, and Firebase.\n",
    "Operating Systems: Experience with both Windows and Linux environments.\n",
    "Projects: Demonstrated experience with projects such as blockchain applications, mobile apps, and web-based systems.\n",
    "Problem-Solving: Strong analytical and problem-solving skills with the ability to troubleshoot and resolve technical issues effectively.\n",
    "Communication: Excellent verbal and written communication skills, with the ability to collaborate effectively within a team.\n",
    "Desired Skills:\n",
    "Experience with cloud platforms (e.g., AWS, GCP) is a plus.\n",
    "Knowledge of security best practices and data protection.\n",
    "Familiarity with agile development methodologies.\n",
    "What We Offer:\n",
    "Growth Opportunities: Access to professional development and career growth within a leading technology company.\n",
    "Innovative Environment: Work on cutting-edge projects and technologies in a collaborative and supportive team environment.\n",
    "Competitive Compensation: Attractive salary and benefits package.\"\"\""
   ]
  },
  {
   "cell_type": "code",
   "execution_count": 39,
   "metadata": {},
   "outputs": [],
   "source": [
    "job_description = \"\"\"Position: Finance Intern\n",
    "Location: [Company Location]\n",
    "Type: Internship (Full-time/Part-time)\n",
    "\n",
    "We are looking for a proactive Finance Intern to support our finance team with day-to-day tasks. Responsibilities include assisting with financial reporting, data entry, reconciliations, and financial analysis. This role is perfect for students or recent graduates seeking practical experience in finance.\n",
    "\n",
    "Key Responsibilities:\n",
    "\n",
    "Assist in preparing financial reports and analysis.\n",
    "Help with data entry and transaction reconciliation.\n",
    "Support budgeting and forecasting processes.\n",
    "Qualifications:\n",
    "\n",
    "Currently pursuing a degree in Finance, Accounting, or a related field.\n",
    "Strong analytical and communication skills.\n",
    "Proficiency in MS Excel.\"\"\""
   ]
  },
  {
   "cell_type": "code",
   "execution_count": 40,
   "metadata": {},
   "outputs": [],
   "source": [
    "resumes = \"\"\"John Doe\n",
    "[City, State] | [Phone Number] | [Email Address] | [LinkedIn Profile]\n",
    "\n",
    "Objective\n",
    "A dedicated and detail-oriented Finance student seeking a Finance Intern position to apply financial knowledge and analytical skills in a dynamic organization. Eager to contribute to financial reporting, analysis, and budgeting while gaining practical experience.\n",
    "\n",
    "Education\n",
    "Bachelor of Science in Finance\n",
    "[University Name] — [City, State]\n",
    "Expected Graduation: [Month, Year]\n",
    "Relevant Coursework: Financial Accounting, Corporate Finance, Investment Analysis, Economics\n",
    "\n",
    "Skills\n",
    "Financial Reporting & Analysis\n",
    "Data Entry & Reconciliation\n",
    "Budgeting & Forecasting\n",
    "Proficiency in MS Excel, QuickBooks\n",
    "Strong Analytical & Problem-Solving Skills\n",
    "Team Collaboration & Communication\n",
    "Experience\n",
    "Finance Club Member\n",
    "[University Name], [Month Year] – Present\n",
    "\n",
    "Analyzed stock market trends and presented findings in meetings.\n",
    "Participated in case studies related to financial management and budgeting.\n",
    "Collaborated with peers to create mock investment portfolios.\n",
    "Accounting Intern\n",
    "[Company Name], [City, State] — [Month Year] – [Month Year]\n",
    "\n",
    "Assisted in the preparation of financial statements and balance sheets.\n",
    "Performed data entry and reconciliation of financial transactions.\n",
    "Supported the month-end close process and maintained accurate financial records.\n",
    "Certifications\n",
    "Excel for Finance (Certification Name)\n",
    "Financial Modeling (Certification Name)\n",
    "Projects\n",
    "Financial Analysis Project\n",
    "\n",
    "Conducted a detailed analysis of a public company’s financial statements, focusing on profitability, liquidity, and market ratios.\n",
    "Volunteer Work\n",
    "Financial Literacy Workshop Volunteer\n",
    "\n",
    "Helped organize and teach financial literacy classes to high school students.\n",
    "\"\"\""
   ]
  },
  {
   "cell_type": "code",
   "execution_count": 41,
   "metadata": {},
   "outputs": [
    {
     "data": {
      "text/plain": [
       "'John Doe\\n[City, State] | [Phone Number] | [Email Address] | [LinkedIn Profile]\\n\\nObjective\\nA dedicated and detail-oriented Finance student seeking a Finance Intern position to apply financial knowledge and analytical skills in a dynamic organization. Eager to contribute to financial reporting, analysis, and budgeting while gaining practical experience.\\n\\nEducation\\nBachelor of Science in Finance\\n[University Name] — [City, State]\\nExpected Graduation: [Month, Year]\\nRelevant Coursework: Financial Accounting, Corporate Finance, Investment Analysis, Economics\\n\\nSkills\\nFinancial Reporting & Analysis\\nData Entry & Reconciliation\\nBudgeting & Forecasting\\nProficiency in MS Excel, QuickBooks\\nStrong Analytical & Problem-Solving Skills\\nTeam Collaboration & Communication\\nExperience\\nFinance Club Member\\n[University Name], [Month Year] – Present\\n\\nAnalyzed stock market trends and presented findings in meetings.\\nParticipated in case studies related to financial management and budgeting.\\nCollaborated with peers to create mock investment portfolios.\\nAccounting Intern\\n[Company Name], [City, State] — [Month Year] – [Month Year]\\n\\nAssisted in the preparation of financial statements and balance sheets.\\nPerformed data entry and reconciliation of financial transactions.\\nSupported the month-end close process and maintained accurate financial records.\\nCertifications\\nExcel for Finance (Certification Name)\\nFinancial Modeling (Certification Name)\\nProjects\\nFinancial Analysis Project\\n\\nConducted a detailed analysis of a public company’s financial statements, focusing on profitability, liquidity, and market ratios.\\nVolunteer Work\\nFinancial Literacy Workshop Volunteer\\n\\nHelped organize and teach financial literacy classes to high school students.\\n'"
      ]
     },
     "execution_count": 41,
     "metadata": {},
     "output_type": "execute_result"
    }
   ],
   "source": [
    "resumes"
   ]
  },
  {
   "cell_type": "code",
   "execution_count": 42,
   "metadata": {},
   "outputs": [
    {
     "name": "stderr",
     "output_type": "stream",
     "text": [
      "<>:3: SyntaxWarning: invalid escape sequence '\\S'\n",
      "<>:5: SyntaxWarning: invalid escape sequence '\\S'\n",
      "<>:6: SyntaxWarning: invalid escape sequence '\\S'\n",
      "<>:7: SyntaxWarning: invalid escape sequence '\\]'\n",
      "<>:9: SyntaxWarning: invalid escape sequence '\\s'\n",
      "<>:3: SyntaxWarning: invalid escape sequence '\\S'\n",
      "<>:5: SyntaxWarning: invalid escape sequence '\\S'\n",
      "<>:6: SyntaxWarning: invalid escape sequence '\\S'\n",
      "<>:7: SyntaxWarning: invalid escape sequence '\\]'\n",
      "<>:9: SyntaxWarning: invalid escape sequence '\\s'\n",
      "/tmp/ipykernel_124156/3739445999.py:3: SyntaxWarning: invalid escape sequence '\\S'\n",
      "  cleanText = re.sub('http\\S+\\s', ' ', txt)\n",
      "/tmp/ipykernel_124156/3739445999.py:5: SyntaxWarning: invalid escape sequence '\\S'\n",
      "  cleanText = re.sub('#\\S+\\s', ' ', cleanText)\n",
      "/tmp/ipykernel_124156/3739445999.py:6: SyntaxWarning: invalid escape sequence '\\S'\n",
      "  cleanText = re.sub('@\\S+', '  ', cleanText)\n",
      "/tmp/ipykernel_124156/3739445999.py:7: SyntaxWarning: invalid escape sequence '\\]'\n",
      "  cleanText = re.sub('[%s]' % re.escape(\"\"\"!\"#$%&'()*+,-./:;<=>?@[\\]^_`{|}~\"\"\"), ' ', cleanText)\n",
      "/tmp/ipykernel_124156/3739445999.py:9: SyntaxWarning: invalid escape sequence '\\s'\n",
      "  cleanText = re.sub('\\s+', ' ', cleanText)\n"
     ]
    }
   ],
   "source": [
    "import re\n",
    "def cleanResume(txt):\n",
    "    cleanText = re.sub('http\\S+\\s', ' ', txt)\n",
    "    cleanText = re.sub('RT|cc', ' ', cleanText)\n",
    "    cleanText = re.sub('#\\S+\\s', ' ', cleanText)\n",
    "    cleanText = re.sub('@\\S+', '  ', cleanText)  \n",
    "    cleanText = re.sub('[%s]' % re.escape(\"\"\"!\"#$%&'()*+,-./:;<=>?@[\\]^_`{|}~\"\"\"), ' ', cleanText)\n",
    "    cleanText = re.sub(r'[^\\x00-\\x7f]', ' ', cleanText) \n",
    "    cleanText = re.sub('\\s+', ' ', cleanText)\n",
    "    return cleanText"
   ]
  },
  {
   "cell_type": "code",
   "execution_count": 43,
   "metadata": {},
   "outputs": [],
   "source": [
    "# import spacy\n",
    "# nlp = spacy.load('en_core_web_sm')\n",
    "# def remove_general_words(text):\n",
    "#     # Process the text using spaCy\n",
    "#     doc = nlp(text)\n",
    "#     # Filter out stopwords\n",
    "#     filtered_text = [token.text for token in doc if not token.is_stop]\n",
    "#     return ' '.join(filtered_text)"
   ]
  },
  {
   "cell_type": "code",
   "execution_count": 44,
   "metadata": {},
   "outputs": [
    {
     "name": "stdout",
     "output_type": "stream",
     "text": [
      "Position Finance Intern Location Company Location Type Internship Full time Part time We are looking for a proactive Finance Intern to support our finance team with day to day tasks Responsibilities include assisting with financial reporting data entry reconciliations and financial analysis This role is perfect for students or recent graduates seeking practical experience in finance Key Responsibilities Assist in preparing financial reports and analysis Help with data entry and transaction reconciliation Support budgeting and forecasting processes Qualifications Currently pursuing a degree in Finance A ounting or a related field Strong analytical and communication skills Proficiency in MS Excel \n"
     ]
    }
   ],
   "source": [
    "job_description = cleanResume(job_description)\n",
    "print(job_description)"
   ]
  },
  {
   "cell_type": "code",
   "execution_count": 45,
   "metadata": {},
   "outputs": [],
   "source": [
    "vectorizer = TfidfVectorizer().fit_transform([job_description, resumes])\n",
    "vectors = vectorizer.toarray()\n",
    "\n",
    " # Calculate cosine similarity\n",
    "job_vector = vectors[0]\n",
    "resume_vector = vectors[1]\n",
    "similarity = cosine_similarity([job_vector], [resume_vector])[0][0]\n",
    "# Round similarity score\n",
    "similarity_score = round(similarity, 2)"
   ]
  },
  {
   "cell_type": "code",
   "execution_count": 46,
   "metadata": {},
   "outputs": [
    {
     "data": {
      "text/plain": [
       "0.45"
      ]
     },
     "execution_count": 46,
     "metadata": {},
     "output_type": "execute_result"
    }
   ],
   "source": [
    "similarity_score"
   ]
  },
  {
   "cell_type": "code",
   "execution_count": 47,
   "metadata": {},
   "outputs": [],
   "source": [
    "# vectorizer = TfidfVectorizer().fit_transform([job_description] + resumes)\n",
    "# vectors = vectorizer.toarray()\n",
    "# # Calculate cosine similarities\n",
    "# job_vector = vectors[0]\n",
    "# resume_vectors = vectors[1:]\n",
    "# similarities = cosine_similarity([job_vector], resume_vectors)[0]\n",
    "# # Get top 3 resumes and their similarity scores\n",
    "# top_indices = similarities.argsort()[-5:][::-1]\n",
    "# # top_resumes = [resume_files[i].filename for i in top_indices]\n",
    "# similarity_scores = [round(similarities[i], 2) for i in top_indices]"
   ]
  },
  {
   "cell_type": "code",
   "execution_count": 48,
   "metadata": {},
   "outputs": [
    {
     "name": "stdout",
     "output_type": "stream",
     "text": [
      "0.41\n"
     ]
    },
    {
     "name": "stderr",
     "output_type": "stream",
     "text": [
      "[nltk_data] Downloading package stopwords to\n",
      "[nltk_data]     /home/siddharth/nltk_data...\n",
      "[nltk_data]   Package stopwords is already up-to-date!\n"
     ]
    }
   ],
   "source": [
    "import re\n",
    "import nltk\n",
    "from nltk.corpus import stopwords\n",
    "from nltk.stem import PorterStemmer\n",
    "from sklearn.feature_extraction.text import TfidfVectorizer\n",
    "from sklearn.metrics.pairwise import cosine_similarity\n",
    "\n",
    "# Download required NLTK datasets\n",
    "nltk.download('stopwords')\n",
    "\n",
    "def preprocess_text(text):\n",
    "    # Convert to lowercase\n",
    "    text = text.lower()\n",
    "    \n",
    "    # Remove punctuation and numbers\n",
    "    text = re.sub(r'[^a-z\\s]', '', text)\n",
    "    \n",
    "    # Tokenize text\n",
    "    words = text.split()\n",
    "    \n",
    "    # Remove stopwords\n",
    "    stop_words = set(stopwords.words('english'))\n",
    "    words = [word for word in words if word not in stop_words]\n",
    "    \n",
    "    # Apply stemming (optional: you can also use lemmatization for more accuracy)\n",
    "    ps = PorterStemmer()\n",
    "    words = [ps.stem(word) for word in words]\n",
    "    \n",
    "    return ' '.join(words)\n",
    "\n",
    "def match(job_description, resume):\n",
    "    # Preprocess both the job description and the resume\n",
    "    job_description = preprocess_text(job_description)\n",
    "    resume = preprocess_text(resume)\n",
    "    \n",
    "    # Create TF-IDF vectors\n",
    "    vectorizer = TfidfVectorizer().fit_transform([job_description, resume])\n",
    "    vectors = vectorizer.toarray()\n",
    "    \n",
    "    # Calculate cosine similarity\n",
    "    job_vector = vectors[0]\n",
    "    resume_vector = vectors[1]\n",
    "    similarity = cosine_similarity([job_vector], [resume_vector])[0][0]\n",
    "    \n",
    "    # Round similarity score\n",
    "    similarity_score = round(similarity, 2)\n",
    "    \n",
    "    return similarity_score\n",
    "\n",
    "# Example usage\n",
    "\n",
    "print(match(job_description, resumes))  # Output: 0.xx (similarity score)\n"
   ]
  }
 ],
 "metadata": {
  "kernelspec": {
   "display_name": ".venv",
   "language": "python",
   "name": "python3"
  },
  "language_info": {
   "codemirror_mode": {
    "name": "ipython",
    "version": 3
   },
   "file_extension": ".py",
   "mimetype": "text/x-python",
   "name": "python",
   "nbconvert_exporter": "python",
   "pygments_lexer": "ipython3",
   "version": "3.12.3"
  }
 },
 "nbformat": 4,
 "nbformat_minor": 2
}
